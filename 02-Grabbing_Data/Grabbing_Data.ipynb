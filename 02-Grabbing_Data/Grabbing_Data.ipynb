{
 "cells": [
  {
   "cell_type": "markdown",
   "metadata": {},
   "source": [
    "## Grabbing the Data\n",
    "-----"
   ]
  },
  {
   "cell_type": "markdown",
   "metadata": {},
   "source": [
    "### Setup:\n",
    "---"
   ]
  },
  {
   "cell_type": "code",
   "execution_count": 12,
   "metadata": {},
   "outputs": [],
   "source": [
    "# Import dependencies\n",
    "from pathlib import Path\n",
    "import numpy as np\n",
    "import pandas as pd\n",
    "import requests\n",
    "from bs4 import BeautifulSoup\n"
   ]
  },
  {
   "cell_type": "markdown",
   "metadata": {},
   "source": [
    "### Grab NFL Game Data from Past Years:\n",
    "---"
   ]
  },
  {
   "cell_type": "code",
   "execution_count": 13,
   "metadata": {},
   "outputs": [],
   "source": [
    "# helper function to pull text from the html element\n",
    "# if error occurs - return 'N/A'\n",
    "def getHTMLValue(input, parent=False):\n",
    "    try:\n",
    "        if parent:\n",
    "            return input.parent.text\n",
    "        else:\n",
    "            return input.text\n",
    "    except:\n",
    "        return 'N/A'"
   ]
  },
  {
   "cell_type": "code",
   "execution_count": 14,
   "metadata": {},
   "outputs": [],
   "source": [
    "# helper function to replace text in the results string.\n",
    "# if error occurs - return the original value\n",
    "def parseLabels(rawData, throwAway):\n",
    "    try:\n",
    "        return rawData.replace(throwAway, '')\n",
    "    except:\n",
    "        return rawData"
   ]
  },
  {
   "cell_type": "code",
   "execution_count": 15,
   "metadata": {},
   "outputs": [
    {
     "data": {
      "text/plain": [
       "[2022]"
      ]
     },
     "execution_count": 15,
     "metadata": {},
     "output_type": "execute_result"
    }
   ],
   "source": [
    "# Set Range of Years\n",
    "years_list = [2022]\n",
    "years_list"
   ]
  },
  {
   "cell_type": "code",
   "execution_count": 11,
   "metadata": {},
   "outputs": [],
   "source": [
    "# Set List of Teams\n",
    "teams_list = [\"Arizona Cardinals\",\n",
    "    \"Atlanta Falcons\",\n",
    "    \"Baltimore Ravens\",\n",
    "    \"Buffalo Bills\",\n",
    "    \"Carolina Panthers\",\n",
    "    \"Chicago Bears\",\n",
    "    \"Cincinnati Bengals\",\n",
    "    \"Cleveland Browns\",\n",
    "    \"Dallas Cowboys\",\n",
    "    \"Denver Broncos\",\n",
    "    \"Detroit Lions\",\n",
    "    \"Green Bay Packers\",\n",
    "    \"Houston Texans\",\n",
    "    \"Indianapolis Colts\",\n",
    "    \"Jacksonville Jaguars\",\n",
    "    \"Kansas City Chiefs\",\n",
    "    \"Las Vegas Raiders\",\n",
    "    \"Los Angeles Chargers\",\n",
    "    \"Los Angeles Rams\",\n",
    "    \"Miami Dolphins\",\n",
    "    \"Minnesota Vikings\",\n",
    "    \"New England Patriots\",\n",
    "    \"New Orleans Saints\",\n",
    "    \"New York Giants\",\n",
    "    \"New York Jets\",\n",
    "    \"Philadelphia Eagles\",\n",
    "    \"Pittsburgh Steelers\",\n",
    "    \"San Francisco 49ers\",\n",
    "    \"Seattle Seahawks\",\n",
    "    \"Tampa Bay Buccaneers\",\n",
    "    \"Tennessee Titans\",\n",
    "    \"Washington Commanders\",\n",
    "    ]"
   ]
  },
  {
   "cell_type": "code",
   "execution_count": 29,
   "metadata": {},
   "outputs": [],
   "source": [
    "# Try With a Single Year (2022) First\n",
    "for year in years_list:\n",
    "    for team in teams_list:\n",
    "        team_format = team.replace(' ', '_')\n",
    "        url = f'https://en.wikipedia.org/wiki/{year}_{team_format}_season'\n",
    "\n",
    "        wiki_tables = pd.read_html(url, match='Opponent')\n",
    "\n",
    "        for table in wiki_tables:\n",
    "            # if the table has more than 5 rows, that's our results table\n",
    "            if (len(table) > 5):\n",
    "                results_df = table\n",
    "\n",
    "        results_df['team'] = team\n",
    "        results_df['weather_condition'] = ''\n",
    "        results_df['temp_f'] = ''\n",
    "        results_df['temp_c'] = ''\n",
    "        results_df['time'] = ''\n",
    "        results_df['city'] = ''\n",
    "        results_df['state'] = ''\n",
    "\n",
    "        # screen scrape the game data to get the weather, time, and location\n",
    "        team_response = requests.get(url)\n",
    "        team_response_html = team_response.content.decode('utf-8')\n",
    "        team_response_parsed = BeautifulSoup(team_response_html)\n",
    "\n",
    "        uls = team_response_parsed.find_all('b', string=\"Date\")\n",
    "        for ul in uls:\n",
    "            game_date = parseLabels(getHTMLValue(ul.parent), 'Date: ')\n",
    "            game_weather = parseLabels(getHTMLValue(ul.parent.parent.find('b', string=\"Game weather\"), parent=True), 'Game weather: ')\n",
    "            \n",
    "            weather_parts = game_weather.split(',')\n",
    "\n",
    "            conditions = weather_parts[0]\n",
    "\n",
    "            if (len(weather_parts) > 1):\n",
    "                temps = weather_parts[1].split('°')\n",
    "                temp_f = temps[0]\n",
    "                celcius_part = temps[1].split('(')\n",
    "                temp_c = celcius_part[1]\n",
    "            else:\n",
    "                # domed stadium - assume constant temp\n",
    "                temp_f = 72\n",
    "                temp_c = 22\n",
    "\n",
    "            game_time = parseLabels(getHTMLValue(ul.parent.parent.find('b', string=\"Game time\"), parent=True), 'Game time: ')\n",
    "            game_location = parseLabels(getHTMLValue(ul.parent.parent.parent.find('p')), 'at ').replace('\\n', '')\n",
    "\n",
    "            game_location_parts = game_location.split(',')\n",
    "            results_df.loc[results_df['Date'] == game_date, 'weather_condition'] = conditions\n",
    "            results_df.loc[results_df['Date'] == game_date, 'temp_f'] = int(temp_f)\n",
    "            results_df.loc[results_df['Date'] == game_date, 'temp_c'] = int(temp_c)\n",
    "            results_df.loc[results_df['Date'] == game_date, 'time'] = game_time\n",
    "            results_df.loc[results_df['Date'] == game_date, 'city'] = game_location_parts[1].strip()\n",
    "            results_df.loc[results_df['Date'] == game_date, 'state'] = game_location_parts[2].strip()\n",
    "\n",
    "        # export to csv here - by year and team\n",
    "        results_df.to_csv(f'../03-Wrangling_Data/Grabbing_Data_Exports/{year}_{team_format}.csv')\n"
   ]
  },
  {
   "cell_type": "markdown",
   "metadata": {},
   "source": [
    "### Export Past Game Data as CSV Files:\n",
    "---"
   ]
  },
  {
   "cell_type": "code",
   "execution_count": null,
   "metadata": {},
   "outputs": [],
   "source": [
    "# Export CSV's for Each Team to ../03-Wrangling_Data/Grabbing_Data_Exports\n"
   ]
  }
 ],
 "metadata": {
  "kernelspec": {
   "display_name": "PythonData",
   "language": "python",
   "name": "python3"
  },
  "language_info": {
   "codemirror_mode": {
    "name": "ipython",
    "version": 3
   },
   "file_extension": ".py",
   "mimetype": "text/x-python",
   "name": "python",
   "nbconvert_exporter": "python",
   "pygments_lexer": "ipython3",
   "version": "3.11.5"
  }
 },
 "nbformat": 4,
 "nbformat_minor": 2
}
